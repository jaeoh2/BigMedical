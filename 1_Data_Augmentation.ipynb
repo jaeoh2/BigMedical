{
 "cells": [
  {
   "cell_type": "code",
   "execution_count": 1,
   "metadata": {
    "collapsed": true,
    "deletable": true,
    "editable": true
   },
   "outputs": [],
   "source": [
    "%matplotlib inline\n",
    "import matplotlib.pyplot as plt"
   ]
  },
  {
   "cell_type": "code",
   "execution_count": 2,
   "metadata": {
    "collapsed": true,
    "deletable": true,
    "editable": true
   },
   "outputs": [],
   "source": [
    "import numpy as np\n",
    "import os, random, h5py\n",
    "import cv2\n",
    "from scipy import ndimage\n",
    "from skimage.transform import rotate\n",
    "from skimage.exposure import equalize_adapthist\n",
    "from sklearn.model_selection import train_test_split"
   ]
  },
  {
   "cell_type": "code",
   "execution_count": 3,
   "metadata": {
    "collapsed": true,
    "deletable": true,
    "editable": true
   },
   "outputs": [],
   "source": [
    "FolderPath = \"../../dataset/ultrasound_nerve_segmentation/\""
   ]
  },
  {
   "cell_type": "code",
   "execution_count": 4,
   "metadata": {
    "collapsed": false,
    "deletable": true,
    "editable": true
   },
   "outputs": [
    {
     "name": "stdout",
     "output_type": "stream",
     "text": [
      "Load Data...\n"
     ]
    }
   ],
   "source": [
    "print(\"Load Data...\")\n",
    "trainImages = np.load(FolderPath + 'trainImages.npy')\n",
    "trainMasks = np.load(FolderPath + 'trainMasks.npy')"
   ]
  },
  {
   "cell_type": "code",
   "execution_count": 5,
   "metadata": {
    "collapsed": true,
    "deletable": true,
    "editable": true
   },
   "outputs": [],
   "source": [
    "def exposure_image(X):\n",
    "    Xf = np.array(X)\n",
    "    for i in xrange(X.shape[0]):\n",
    "        Xf[i] = equalize_adapthist(X[i])\n",
    "    return Xf"
   ]
  },
  {
   "cell_type": "code",
   "execution_count": 6,
   "metadata": {
    "collapsed": true,
    "deletable": true,
    "editable": true
   },
   "outputs": [],
   "source": [
    "def preprocess_image(X,y):\n",
    "    X = (X / 255.).astype(np.float32)\n",
    "    y = (y / 255.).astype(np.float32)\n",
    "\n",
    "    X = exposure_image(X)\n",
    "    \n",
    "    return X,y"
   ]
  },
  {
   "cell_type": "code",
   "execution_count": 7,
   "metadata": {
    "collapsed": true,
    "deletable": true,
    "editable": true
   },
   "outputs": [],
   "source": [
    "def random_rotate90(X,y):\n",
    "    Xf = np.array(X)\n",
    "    yf = np.array(y)\n",
    "    for i in xrange(X.shape[0]):\n",
    "        rand_deg = np.random.randint(0,4) * 90 #0, 90, 180, 270 deg\n",
    "        \n",
    "        Xf[i] = rotate(X[i], rand_deg, mode='constant', preserve_range=True)\n",
    "        yf[i] = rotate(y[i], rand_deg, mode='constant', preserve_range=True)\n",
    "    return Xf,yf    "
   ]
  },
  {
   "cell_type": "code",
   "execution_count": 8,
   "metadata": {
    "collapsed": true,
    "deletable": true,
    "editable": true
   },
   "outputs": [],
   "source": [
    "def random_rotate(X,y,intensity):\n",
    "    Xf = np.array(X)\n",
    "    yf = np.array(y)\n",
    "    for i in xrange(X.shape[0]):\n",
    "        delta = 30. * intensity # scale using augmentation intensity\n",
    "        ran_delta = random.uniform(-delta, delta)\n",
    "        \n",
    "        Xf[i] = rotate(X[i], ran_delta, mode = 'constant', preserve_range=True)\n",
    "        yf[i] = rotate(y[i], ran_delta, mode = 'constant', preserve_range=True)\n",
    "    return Xf,yf"
   ]
  },
  {
   "cell_type": "code",
   "execution_count": 9,
   "metadata": {
    "collapsed": true,
    "deletable": true,
    "editable": true
   },
   "outputs": [],
   "source": [
    "def random_flip(X,y):\n",
    "    ud_indices = random.sample(range(X.shape[0]), int(X.shape[0])/2)\n",
    "    lr_indices = random.sample(range(X.shape[0]), int(X.shape[0])/2)\n",
    "    Xf = np.array(X)\n",
    "    yf = np.array(y)\n",
    "    \n",
    "    Xf[ud_indices] = np.flipud(X[ud_indices])\n",
    "    yf[ud_indices] = np.flipud(y[ud_indices])\n",
    "    Xf[lr_indices] = np.fliplr(Xf[lr_indices])\n",
    "    yf[lr_indices] = np.fliplr(yf[lr_indices])\n",
    "    \n",
    "    return Xf,yf    "
   ]
  },
  {
   "cell_type": "code",
   "execution_count": 10,
   "metadata": {
    "collapsed": true,
    "deletable": true,
    "editable": true
   },
   "outputs": [],
   "source": [
    "def random_horizontal_flip(X,y):\n",
    "    flip_indices = random.sample(range(X.shape[0]), int(X.shape[0])/2)\n",
    "    Xf = np.array(X)\n",
    "    yf = np.array(y)\n",
    "    \n",
    "    Xf[flip_indices] = X[flip_indices, :, ::-1]\n",
    "    yf[flip_indices] = y[flip_indices, :, ::-1]\n",
    "    \n",
    "    return Xf,yf"
   ]
  },
  {
   "cell_type": "code",
   "execution_count": 11,
   "metadata": {
    "collapsed": true,
    "deletable": true,
    "editable": true
   },
   "outputs": [],
   "source": [
    "def vertical_flip(X,y):\n",
    "    Xf = np.array(X)\n",
    "    yf = np.array(y)\n",
    "    for i in xrange(X.shape[0]):\n",
    "        Xf[i] = rotate(X[i], 180, mode='edge', preserve_range=True)\n",
    "        yf[i] = rotate(y[i], 180, mode='edge', preserve_range=True)\n",
    "    return Xf,yf"
   ]
  },
  {
   "cell_type": "code",
   "execution_count": 12,
   "metadata": {
    "collapsed": true,
    "deletable": true,
    "editable": true
   },
   "outputs": [],
   "source": [
    "def vertical_flip_cv2(X,y):\n",
    "    Xf = np.array(X)\n",
    "    yf = np.array(y)\n",
    "    (h,w) = Xf.shape[1:]\n",
    "    center = (w/2, h/2)\n",
    "    for i in xrange(X.shape[0]):\n",
    "        M = cv2.getRotationMatrix2D(center, 180, 1.0)\n",
    "        \n",
    "        Xf[i] = cv2.warpAffine(X[i], M, (w,h), flags=cv2.INTER_LINEAR)\n",
    "        yf[i] = cv2.warpAffine(y[i], M, (w,h), flags=cv2.INTER_LINEAR)\n",
    "    return Xf,yf"
   ]
  },
  {
   "cell_type": "code",
   "execution_count": 13,
   "metadata": {
    "collapsed": true,
    "deletable": true,
    "editable": true
   },
   "outputs": [],
   "source": [
    "def random_rotate_cv2(X,y,intensity):\n",
    "    Xf = np.array(X)\n",
    "    yf = np.array(y)\n",
    "    (h,w) = Xf.shape[1:]\n",
    "    center = (w/2, h/2)\n",
    "    for i in xrange(X.shape[0]):\n",
    "        delta = 30. * intensity\n",
    "        ran_delta = random.uniform(-delta, delta)\n",
    "        M = cv2.getRotationMatrix2D(center, ran_delta, 1.0)\n",
    "        \n",
    "        Xf[i] = cv2.warpAffine(X[i], M, (w,h), flags=cv2.INTER_LINEAR)\n",
    "        yf[i] = cv2.warpAffine(y[i], M, (w,h), flags=cv2.INTER_LINEAR)\n",
    "        \n",
    "    return Xf,yf"
   ]
  },
  {
   "cell_type": "code",
   "execution_count": 14,
   "metadata": {
    "collapsed": true,
    "deletable": true,
    "editable": true
   },
   "outputs": [],
   "source": [
    "def random_shift(X,y):\n",
    "    pass"
   ]
  },
  {
   "cell_type": "code",
   "execution_count": 15,
   "metadata": {
    "collapsed": false,
    "deletable": true,
    "editable": true
   },
   "outputs": [],
   "source": [
    "#test code\n",
    "X_test, y_test = trainImages[0:5,:], trainMasks[0:5,:]\n",
    "testX, testy = random_rotate(X_test, y_test,0.3)\n",
    "testX, testy = random_flip(testX, testy)\n",
    "testX, testy = random_rotate90(testX, testy)"
   ]
  },
  {
   "cell_type": "code",
   "execution_count": 16,
   "metadata": {
    "collapsed": false,
    "deletable": true,
    "editable": true
   },
   "outputs": [
    {
     "data": {
      "text/plain": [
       "((5, 420, 580), (5, 420, 580))"
      ]
     },
     "execution_count": 16,
     "metadata": {},
     "output_type": "execute_result"
    }
   ],
   "source": [
    "X_test.shape, testX.shape"
   ]
  },
  {
   "cell_type": "code",
   "execution_count": 17,
   "metadata": {
    "collapsed": false,
    "deletable": true,
    "editable": true,
    "scrolled": false
   },
   "outputs": [
    {
     "data": {
      "text/plain": [
       "<matplotlib.image.AxesImage at 0x7f92e2db54d0>"
      ]
     },
     "execution_count": 17,
     "metadata": {},
     "output_type": "execute_result"
    },
    {
     "data": {
      "image/png": "[encoded data removed]",
      "text/plain": [
       "<matplotlib.figure.Figure at 0x7f93869bc990>"
      ]
     },
     "metadata": {},
     "output_type": "display_data"
    }
   ],
   "source": [
    "#test code\n",
    "test_idx = random.randint(0,4)\n",
    "plt.figure(200)\n",
    "plt.subplot(221)\n",
    "plt.imshow(X_test[test_idx,:,:],cmap='gray')\n",
    "\n",
    "plt.subplot(222)\n",
    "plt.imshow(y_test[test_idx,:,:],cmap='gray')\n",
    "\n",
    "plt.subplot(223)\n",
    "plt.imshow(testX[test_idx,:,:],cmap='gray')\n",
    "\n",
    "plt.subplot(224)\n",
    "plt.imshow(testy[test_idx,:,:],cmap='gray')"
   ]
  },
  {
   "cell_type": "code",
   "execution_count": 19,
   "metadata": {
    "collapsed": false,
    "deletable": true,
    "editable": true
   },
   "outputs": [
    {
     "name": "stdout",
     "output_type": "stream",
     "text": [
      "Start random rotate\n"
     ]
    }
   ],
   "source": [
    "print(\"Start random rotate\")\n",
    "tr_trainImages, tr_trainMasks = random_rotate(trainImages, trainMasks,0.3)"
   ]
  },
  {
   "cell_type": "code",
   "execution_count": 20,
   "metadata": {
    "collapsed": false,
    "deletable": true,
    "editable": true
   },
   "outputs": [
    {
     "name": "stdout",
     "output_type": "stream",
     "text": [
      "Start flip horizontal\n"
     ]
    }
   ],
   "source": [
    "print(\"Start flip horizontal\")\n",
    "tr_trainMasks, tr_trainMasks = random_flip(tr_trainImages, tr_trainMasks)"
   ]
  },
  {
   "cell_type": "code",
   "execution_count": 21,
   "metadata": {
    "collapsed": false,
    "deletable": true,
    "editable": true
   },
   "outputs": [],
   "source": [
    "#print(\"Start flip vertical\")\n",
    "tr_trainImages, tr_trainMasks = random_rotate90(tr_trainImages, tr_trainMasks)"
   ]
  },
  {
   "cell_type": "code",
   "execution_count": 22,
   "metadata": {
    "collapsed": false,
    "deletable": true,
    "editable": true
   },
   "outputs": [],
   "source": [
    "# trainImages.shape, tr_trainImages.shape"
   ]
  },
  {
   "cell_type": "code",
   "execution_count": 23,
   "metadata": {
    "collapsed": false,
    "deletable": true,
    "editable": true
   },
   "outputs": [
    {
     "name": "stdout",
     "output_type": "stream",
     "text": [
      "Start concatenate\n"
     ]
    }
   ],
   "source": [
    "print(\"Start concatenate\")\n",
    "Train = np.concatenate((trainImages, tr_trainImages), axis=0)\n",
    "Masks = np.concatenate((trainMasks, tr_trainMasks), axis=0)"
   ]
  },
  {
   "cell_type": "code",
   "execution_count": 24,
   "metadata": {
    "collapsed": true,
    "deletable": true,
    "editable": true
   },
   "outputs": [],
   "source": [
    "# Train = trainImages\n",
    "# Masks = trainMasks"
   ]
  },
  {
   "cell_type": "code",
   "execution_count": 25,
   "metadata": {
    "collapsed": false,
    "deletable": true,
    "editable": true
   },
   "outputs": [
    {
     "name": "stdout",
     "output_type": "stream",
     "text": [
      "Saving preprocessed dataset\n"
     ]
    }
   ],
   "source": [
    "print(\"Saving preprocessed dataset\")\n",
    "np.save(FolderPath + \"Train.npy\", Train)\n",
    "np.save(FolderPath + \"Masks.npy\", Masks)\n",
    "with h5py.File(FolderPath + \"Train.h5\", \"w\") as hf:\n",
    "    hf.create_dataset(\"Train\", data=Train)\n",
    "with h5py.File(FolderPath + \"Masks.h5\", \"w\") as hf:\n",
    "    hf.create_dataset(\"Masks\", data=Masks)\n",
    "print(\"Done\")"
   ]
  },
  {
   "cell_type": "code",
   "execution_count": 26,
   "metadata": {
    "collapsed": true,
    "deletable": true,
    "editable": true
   },
   "outputs": [],
   "source": [
    "X_Train, X_Test, Y_Train, Y_Test = train_test_split(Train,\n",
    "                                                    Masks,\n",
    "                                                    test_size=0.2,\n",
    "                                                    random_state=42)"
   ]
  },
  {
   "cell_type": "code",
   "execution_count": 27,
   "metadata": {
    "collapsed": false,
    "deletable": true,
    "editable": true
   },
   "outputs": [
    {
     "name": "stdout",
     "output_type": "stream",
     "text": [
      "Saving data to file...\n",
      "Done\n"
     ]
    }
   ],
   "source": [
    "print(\"Saving data to file...\")\n",
    "# np.save(FolderPath + \"X_Train.npy\", X_Train)\n",
    "# np.save(FolderPath + \"Y_Train.npy\", Y_Train)\n",
    "# np.save(FolderPath + \"X_Test.npy\", X_Test)\n",
    "# np.save(FolderPath + \"Y_Test.npy\", Y_Test)\n",
    "with h5py.File(FolderPath + \"X_Train.h5\", \"w\") as hf:\n",
    "    hf.create_dataset(\"X_Train\", data=X_Train)\n",
    "with h5py.File(FolderPath + \"Y_Train.h5\", \"w\") as hf:\n",
    "    hf.create_dataset(\"Y_Train\", data=Y_Train)\n",
    "with h5py.File(FolderPath + \"X_Test.h5\", \"w\") as hf:\n",
    "    hf.create_dataset(\"X_Test\", data=X_Test)\n",
    "with h5py.File(FolderPath + \"Y_Test.h5\", \"w\") as hf:\n",
    "    hf.create_dataset(\"Y_Test\", data=Y_Test)\n",
    "print(\"Done\")"
   ]
  }
 ],
 "metadata": {
  "kernelspec": {
   "display_name": "Python 2",
   "language": "python",
   "name": "python2"
  },
  "language_info": {
   "codemirror_mode": {
    "name": "ipython",
    "version": 2
   },
   "file_extension": ".py",
   "mimetype": "text/x-python",
   "name": "python",
   "nbconvert_exporter": "python",
   "pygments_lexer": "ipython2",
   "version": "2.7.6"
  }
 },
 "nbformat": 4,
 "nbformat_minor": 2
}
