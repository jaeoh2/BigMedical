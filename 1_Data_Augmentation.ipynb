{
 "cells": [
  {
   "cell_type": "code",
   "execution_count": 1,
   "metadata": {
    "collapsed": true,
    "deletable": true,
    "editable": true
   },
   "outputs": [],
   "source": [
    "%matplotlib inline\n",
    "import matplotlib.pyplot as plt"
   ]
  },
  {
   "cell_type": "code",
   "execution_count": 2,
   "metadata": {
    "collapsed": true,
    "deletable": true,
    "editable": true
   },
   "outputs": [],
   "source": [
    "import numpy as np\n",
    "import os, random\n",
    "import cv2\n",
    "from scipy import ndimage\n",
    "from skimage.transform import rotate\n",
    "from sklearn.model_selection import train_test_split"
   ]
  },
  {
   "cell_type": "code",
   "execution_count": 3,
   "metadata": {
    "collapsed": true,
    "deletable": true,
    "editable": true
   },
   "outputs": [],
   "source": [
    "FolderPath = \"../../dataset/ultrasound_nerve_segmentation/\""
   ]
  },
  {
   "cell_type": "code",
   "execution_count": 4,
   "metadata": {
    "collapsed": false,
    "deletable": true,
    "editable": true
   },
   "outputs": [
    {
     "name": "stdout",
     "output_type": "stream",
     "text": [
      "Load Data...\n"
     ]
    }
   ],
   "source": [
    "print(\"Load Data...\")\n",
    "trainImages = np.load(FolderPath + 'trainImages.npy')\n",
    "trainMasks = np.load(FolderPath + 'trainMasks.npy')"
   ]
  },
  {
   "cell_type": "code",
   "execution_count": null,
   "metadata": {
    "collapsed": true,
    "deletable": true,
    "editable": true
   },
   "outputs": [],
   "source": [
    "def preprocess_image(X,y):\n",
    "    X = X.astype('float32')\n",
    "    y = y.astype('float32')\n",
    "    \n",
    "    X = X/255.\n",
    "    y = y/255.\n",
    "    \n",
    "    return X,y"
   ]
  },
  {
   "cell_type": "code",
   "execution_count": null,
   "metadata": {
    "collapsed": true,
    "deletable": true,
    "editable": true
   },
   "outputs": [],
   "source": [
    "def vertical_flip(X,y):\n",
    "    Xf = np.array(X)\n",
    "    yf = np.array(y)\n",
    "    for i in xrange(X.shape[0]):\n",
    "        Xf[i] = rotate(X[i], 180, mode='edge')\n",
    "        yf[i] = rotate(y[i], 180, mode='edge')\n",
    "    return Xf,yf"
   ]
  },
  {
   "cell_type": "code",
   "execution_count": null,
   "metadata": {
    "collapsed": true,
    "deletable": true,
    "editable": true
   },
   "outputs": [],
   "source": [
    "def random_rotate(X,y,intensity):\n",
    "    Xf = np.array(X)\n",
    "    yf = np.array(y)\n",
    "    for i in xrange(X.shape[0]):\n",
    "        delta = 30. * intensity # scale using augmentation intensity\n",
    "        ran_delta = random.uniform(-delta, delta)\n",
    "        \n",
    "        Xf[i] = rotate(X[i], ran_delta, mode = 'edge')\n",
    "        yf[i] = rotate(y[i], ran_delta, mode = 'edge')\n",
    "    return Xf,yf"
   ]
  },
  {
   "cell_type": "code",
   "execution_count": null,
   "metadata": {
    "collapsed": true,
    "deletable": true,
    "editable": true
   },
   "outputs": [],
   "source": [
    "def random_shift(X,y):\n",
    "    pass"
   ]
  },
  {
   "cell_type": "code",
   "execution_count": null,
   "metadata": {
    "collapsed": true,
    "deletable": true,
    "editable": true
   },
   "outputs": [],
   "source": [
    "def random_horizontal_flip(X,y):\n",
    "    flip_indices = random.sample(range(X.shape[0]), int(X.shape[0]))\n",
    "    Xf = np.array(X)\n",
    "    yf = np.array(y)\n",
    "    \n",
    "    Xf[flip_indices] = X[flip_indices, :, ::-1]\n",
    "    yf[flip_indices] = y[flip_indices, :, ::-1]\n",
    "    \n",
    "    return Xf,yf"
   ]
  },
  {
   "cell_type": "code",
   "execution_count": null,
   "metadata": {
    "collapsed": false,
    "deletable": true,
    "editable": true
   },
   "outputs": [],
   "source": [
    "#test code\n",
    "# X_test, y_test = preprocess_image(trainImages[0:5,:,:], trainMasks[0:5,:,:])\n",
    "# testX, testy = random_rotate(X_test, y_test,0.3)"
   ]
  },
  {
   "cell_type": "code",
   "execution_count": null,
   "metadata": {
    "collapsed": false,
    "deletable": true,
    "editable": true,
    "scrolled": false
   },
   "outputs": [],
   "source": [
    "#test code\n",
    "# plt.figure(50)\n",
    "# plt.subplot(211)\n",
    "# plt.imshow(X_test[4,:,:],cmap='gray')\n",
    "\n",
    "# plt.subplot(212)\n",
    "# plt.imshow(testX[4,:,:],cmap='gray')"
   ]
  },
  {
   "cell_type": "code",
   "execution_count": null,
   "metadata": {
    "collapsed": false,
    "deletable": true,
    "editable": true
   },
   "outputs": [],
   "source": [
    "print(\"Preprocessing...\")\n",
    "trainImages, trainMasks = preprocess_image(trainImages, trainMasks)"
   ]
  },
  {
   "cell_type": "code",
   "execution_count": null,
   "metadata": {
    "collapsed": false,
    "deletable": true,
    "editable": true,
    "scrolled": true
   },
   "outputs": [],
   "source": [
    "print(\"Start random rotate\")\n",
    "rt_trainImages, rt_trainMasks = random_rotate(trainImages, trainMasks,0.3)"
   ]
  },
  {
   "cell_type": "code",
   "execution_count": null,
   "metadata": {
    "collapsed": false,
    "deletable": true,
    "editable": true
   },
   "outputs": [],
   "source": [
    "# fl_trainImages, fl_trainMasks = random_horizontal_flip(trainImages, trainMasks)"
   ]
  },
  {
   "cell_type": "code",
   "execution_count": null,
   "metadata": {
    "collapsed": false,
    "deletable": true,
    "editable": true
   },
   "outputs": [],
   "source": [
    "# vf_trainImages, vf_trainMasks = vertical_flip(trainImages, trainMasks)"
   ]
  },
  {
   "cell_type": "code",
   "execution_count": null,
   "metadata": {
    "collapsed": false,
    "deletable": true,
    "editable": true
   },
   "outputs": [],
   "source": [
    "trainImages.shape, rt_trainImages.shape#, fl_trainImages.shape, vf_trainImages.shape"
   ]
  },
  {
   "cell_type": "code",
   "execution_count": null,
   "metadata": {
    "collapsed": false,
    "deletable": true,
    "editable": true
   },
   "outputs": [],
   "source": [
    "print(\"Start concatenate\")\n",
    "Train = np.concatenate((trainImages, rt_trainImages), axis=0)\n",
    "Masks = np.concatenate((trainMasks, rt_trainMasks), axis=0)"
   ]
  },
  {
   "cell_type": "code",
   "execution_count": null,
   "metadata": {
    "collapsed": true,
    "deletable": true,
    "editable": true
   },
   "outputs": [],
   "source": [
    "print(\"Saving preprocessed dataset\")\n",
    "np.save(FolderPath + \"Train.npy\", Train)\n",
    "np.save(FolderPath + \"Masks.npy\", Masks)\n",
    "print(\"Done\")"
   ]
  },
  {
   "cell_type": "code",
   "execution_count": null,
   "metadata": {
    "collapsed": false,
    "deletable": true,
    "editable": true
   },
   "outputs": [],
   "source": [
    "X_Train, X_Test, Y_Train, Y_Test = train_test_split(Train,\n",
    "                                                    Masks,\n",
    "                                                    test_size=0.2,\n",
    "                                                    random_state=42)"
   ]
  },
  {
   "cell_type": "code",
   "execution_count": null,
   "metadata": {
    "collapsed": true,
    "deletable": true,
    "editable": true
   },
   "outputs": [],
   "source": [
    "np.save(FolderPath + \"X_Train.npy\", X_Train)\n",
    "np.save(FolderPath + \"Y_Train.npy\", Y_Train)\n",
    "np.save(FolderPath + \"X_Test.npy\", X_Test)\n",
    "np.save(FolderPath + \"Y_Test.npy\", Y_Test)"
   ]
  },
  {
   "cell_type": "code",
   "execution_count": null,
   "metadata": {
    "collapsed": true,
    "deletable": true,
    "editable": true
   },
   "outputs": [],
   "source": []
  }
 ],
 "metadata": {
  "kernelspec": {
   "display_name": "Python 2",
   "language": "python",
   "name": "python2"
  },
  "language_info": {
   "codemirror_mode": {
    "name": "ipython",
    "version": 2
   },
   "file_extension": ".py",
   "mimetype": "text/x-python",
   "name": "python",
   "nbconvert_exporter": "python",
   "pygments_lexer": "ipython2",
   "version": "2.7.6"
  }
 },
 "nbformat": 4,
 "nbformat_minor": 2
}
