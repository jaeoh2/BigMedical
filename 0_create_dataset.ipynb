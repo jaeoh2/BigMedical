{
 "cells": [
  {
   "cell_type": "code",
   "execution_count": 1,
   "metadata": {
    "collapsed": false,
    "deletable": true,
    "editable": true
   },
   "outputs": [],
   "source": [
    "import os, random\n",
    "import numpy as np\n",
    "import pandas as pd\n",
    "import cv2\n",
    "from natsort import natsorted\n",
    "\n",
    "from sklearn.model_selection import train_test_split"
   ]
  },
  {
   "cell_type": "code",
   "execution_count": 2,
   "metadata": {
    "collapsed": true,
    "deletable": true,
    "editable": true
   },
   "outputs": [],
   "source": [
    "%matplotlib inline\n",
    "import matplotlib.pyplot as plt"
   ]
  },
  {
   "cell_type": "code",
   "execution_count": 3,
   "metadata": {
    "collapsed": true,
    "deletable": true,
    "editable": true
   },
   "outputs": [],
   "source": [
    "train_data_path = \"../../dataset/ultrasound_nerve_segmentation/train/\"\n",
    "test_data_path = \"../../dataset/ultrasound_nerve_segmentation/test/\"\n",
    "root_path = \"../../dataset/ultrasound_nerve_segmentation/\""
   ]
  },
  {
   "cell_type": "code",
   "execution_count": 4,
   "metadata": {
    "collapsed": false,
    "deletable": true,
    "editable": true
   },
   "outputs": [],
   "source": [
    "def create_train_data(data_path, img_rows=420, img_cols=580):\n",
    "    imageList = natsorted(os.listdir(data_path))\n",
    "    total = len(imageList)/2\n",
    "    imgShape = (total, img_rows, img_cols)\n",
    "    i = 0\n",
    "    j = 0\n",
    "    \n",
    "    masks = np.ndarray(imgShape, dtype=np.uint8)\n",
    "    images = np.ndarray(imgShape, dtype=np.uint8) \n",
    "    \n",
    "    for imageName in imageList:\n",
    "        if imageName.endswith(\"_mask.tif\"):\n",
    "            mask = cv2.imread(os.path.join(data_path, imageName), cv2.IMREAD_GRAYSCALE)\n",
    "            masks[i] = mask\n",
    "            i += 1\n",
    "        else:\n",
    "            image = cv2.imread(os.path.join(data_path, imageName), cv2.IMREAD_GRAYSCALE)\n",
    "            images[j] = image\n",
    "            j += 1\n",
    "            \n",
    "        if j % 100 == 0:\n",
    "            print(\"Done: {0}/{1} images\".format(j, total))\n",
    "                    \n",
    "    return images, masks"
   ]
  },
  {
   "cell_type": "code",
   "execution_count": 5,
   "metadata": {
    "collapsed": true,
    "deletable": true,
    "editable": true
   },
   "outputs": [],
   "source": [
    "def create_test_data(data_path, img_rows=420, img_cols=580):\n",
    "    imageList = natsorted(os.listdir(data_path))\n",
    "    total = len(imageList)\n",
    "    imgShape = (total, img_rows, img_cols)\n",
    "    j = 0\n",
    "    \n",
    "    images = np.ndarray(imgShape, dtype=np.uint8)\n",
    "    \n",
    "    for imageName in imageList:\n",
    "        image = cv2.imread(os.path.join(data_path, imageName), cv2.IMREAD_GRAYSCALE)\n",
    "        images[j] = image\n",
    "        j += 1\n",
    "\n",
    "        if j % 100 == 0:\n",
    "            print(\"Done: {0}/{1} images\".format(j, total))\n",
    "                    \n",
    "    return images"
   ]
  },
  {
   "cell_type": "code",
   "execution_count": 6,
   "metadata": {
    "collapsed": false,
    "deletable": true,
    "editable": true,
    "scrolled": true
   },
   "outputs": [
    {
     "name": "stdout",
     "output_type": "stream",
     "text": [
      "Done: 100/5635 images\n",
      "Done: 100/5635 images\n",
      "Done: 200/5635 images\n",
      "Done: 200/5635 images\n",
      "Done: 300/5635 images\n",
      "Done: 300/5635 images\n",
      "Done: 400/5635 images\n",
      "Done: 400/5635 images\n",
      "Done: 500/5635 images\n",
      "Done: 500/5635 images\n",
      "Done: 600/5635 images\n",
      "Done: 600/5635 images\n",
      "Done: 700/5635 images\n",
      "Done: 700/5635 images\n",
      "Done: 800/5635 images\n",
      "Done: 800/5635 images\n",
      "Done: 900/5635 images\n",
      "Done: 900/5635 images\n",
      "Done: 1000/5635 images\n",
      "Done: 1000/5635 images\n",
      "Done: 1100/5635 images\n",
      "Done: 1100/5635 images\n",
      "Done: 1200/5635 images\n",
      "Done: 1200/5635 images\n",
      "Done: 1300/5635 images\n",
      "Done: 1300/5635 images\n",
      "Done: 1400/5635 images\n",
      "Done: 1400/5635 images\n",
      "Done: 1500/5635 images\n",
      "Done: 1500/5635 images\n",
      "Done: 1600/5635 images\n",
      "Done: 1600/5635 images\n",
      "Done: 1700/5635 images\n",
      "Done: 1700/5635 images\n",
      "Done: 1800/5635 images\n",
      "Done: 1800/5635 images\n",
      "Done: 1900/5635 images\n",
      "Done: 1900/5635 images\n",
      "Done: 2000/5635 images\n",
      "Done: 2000/5635 images\n",
      "Done: 2100/5635 images\n",
      "Done: 2100/5635 images\n",
      "Done: 2200/5635 images\n",
      "Done: 2200/5635 images\n",
      "Done: 2300/5635 images\n",
      "Done: 2300/5635 images\n",
      "Done: 2400/5635 images\n",
      "Done: 2400/5635 images\n",
      "Done: 2500/5635 images\n",
      "Done: 2500/5635 images\n",
      "Done: 2600/5635 images\n",
      "Done: 2600/5635 images\n",
      "Done: 2700/5635 images\n",
      "Done: 2700/5635 images\n",
      "Done: 2800/5635 images\n",
      "Done: 2800/5635 images\n",
      "Done: 2900/5635 images\n",
      "Done: 2900/5635 images\n",
      "Done: 3000/5635 images\n",
      "Done: 3000/5635 images\n",
      "Done: 3100/5635 images\n",
      "Done: 3100/5635 images\n",
      "Done: 3200/5635 images\n",
      "Done: 3200/5635 images\n",
      "Done: 3300/5635 images\n",
      "Done: 3300/5635 images\n",
      "Done: 3400/5635 images\n",
      "Done: 3400/5635 images\n",
      "Done: 3500/5635 images\n",
      "Done: 3500/5635 images\n",
      "Done: 3600/5635 images\n",
      "Done: 3600/5635 images\n",
      "Done: 3700/5635 images\n",
      "Done: 3700/5635 images\n",
      "Done: 3800/5635 images\n",
      "Done: 3800/5635 images\n",
      "Done: 3900/5635 images\n",
      "Done: 3900/5635 images\n",
      "Done: 4000/5635 images\n",
      "Done: 4000/5635 images\n",
      "Done: 4100/5635 images\n",
      "Done: 4100/5635 images\n",
      "Done: 4200/5635 images\n",
      "Done: 4200/5635 images\n",
      "Done: 4300/5635 images\n",
      "Done: 4300/5635 images\n",
      "Done: 4400/5635 images\n",
      "Done: 4400/5635 images\n",
      "Done: 4500/5635 images\n",
      "Done: 4500/5635 images\n",
      "Done: 4600/5635 images\n",
      "Done: 4600/5635 images\n",
      "Done: 4700/5635 images\n",
      "Done: 4700/5635 images\n",
      "Done: 4800/5635 images\n",
      "Done: 4800/5635 images\n",
      "Done: 4900/5635 images\n",
      "Done: 4900/5635 images\n",
      "Done: 5000/5635 images\n",
      "Done: 5000/5635 images\n",
      "Done: 5100/5635 images\n",
      "Done: 5100/5635 images\n",
      "Done: 5200/5635 images\n",
      "Done: 5200/5635 images\n",
      "Done: 5300/5635 images\n",
      "Done: 5300/5635 images\n",
      "Done: 5400/5635 images\n",
      "Done: 5400/5635 images\n",
      "Done: 5500/5635 images\n",
      "Done: 5500/5635 images\n",
      "Done: 5600/5635 images\n",
      "Done: 5600/5635 images\n",
      "Done: 100/5508 images\n",
      "Done: 200/5508 images\n",
      "Done: 300/5508 images\n",
      "Done: 400/5508 images\n",
      "Done: 500/5508 images\n",
      "Done: 600/5508 images\n",
      "Done: 700/5508 images\n",
      "Done: 800/5508 images\n",
      "Done: 900/5508 images\n",
      "Done: 1000/5508 images\n",
      "Done: 1100/5508 images\n",
      "Done: 1200/5508 images\n",
      "Done: 1300/5508 images\n",
      "Done: 1400/5508 images\n",
      "Done: 1500/5508 images\n",
      "Done: 1600/5508 images\n",
      "Done: 1700/5508 images\n",
      "Done: 1800/5508 images\n",
      "Done: 1900/5508 images\n",
      "Done: 2000/5508 images\n",
      "Done: 2100/5508 images\n",
      "Done: 2200/5508 images\n",
      "Done: 2300/5508 images\n",
      "Done: 2400/5508 images\n",
      "Done: 2500/5508 images\n",
      "Done: 2600/5508 images\n",
      "Done: 2700/5508 images\n",
      "Done: 2800/5508 images\n",
      "Done: 2900/5508 images\n",
      "Done: 3000/5508 images\n",
      "Done: 3100/5508 images\n",
      "Done: 3200/5508 images\n",
      "Done: 3300/5508 images\n",
      "Done: 3400/5508 images\n",
      "Done: 3500/5508 images\n",
      "Done: 3600/5508 images\n",
      "Done: 3700/5508 images\n",
      "Done: 3800/5508 images\n",
      "Done: 3900/5508 images\n",
      "Done: 4000/5508 images\n",
      "Done: 4100/5508 images\n",
      "Done: 4200/5508 images\n",
      "Done: 4300/5508 images\n",
      "Done: 4400/5508 images\n",
      "Done: 4500/5508 images\n",
      "Done: 4600/5508 images\n",
      "Done: 4700/5508 images\n",
      "Done: 4800/5508 images\n",
      "Done: 4900/5508 images\n",
      "Done: 5000/5508 images\n",
      "Done: 5100/5508 images\n",
      "Done: 5200/5508 images\n",
      "Done: 5300/5508 images\n",
      "Done: 5400/5508 images\n",
      "Done: 5500/5508 images\n"
     ]
    }
   ],
   "source": [
    "trainImages, trainMasks = create_train_data(train_data_path)\n",
    "testImages = create_test_data(test_data_path)"
   ]
  },
  {
   "cell_type": "code",
   "execution_count": 7,
   "metadata": {
    "collapsed": false,
    "deletable": true,
    "editable": true
   },
   "outputs": [
    {
     "data": {
      "text/plain": [
       "((5635, 420, 580), (5635, 420, 580), (5508, 420, 580))"
      ]
     },
     "execution_count": 7,
     "metadata": {},
     "output_type": "execute_result"
    }
   ],
   "source": [
    "trainImages.shape, trainMasks.shape, testImages.shape"
   ]
  },
  {
   "cell_type": "code",
   "execution_count": 8,
   "metadata": {
    "collapsed": false,
    "deletable": true,
    "editable": true
   },
   "outputs": [],
   "source": [
    "np.save(root_path + 'trainImages.npy', trainImages)\n",
    "np.save(root_path + 'trainMasks.npy', trainMasks)"
   ]
  },
  {
   "cell_type": "code",
   "execution_count": 10,
   "metadata": {
    "collapsed": false,
    "deletable": true,
    "editable": true
   },
   "outputs": [
    {
     "data": {
      "text/plain": [
       "<matplotlib.image.AxesImage at 0x7f15ad3b6e10>"
      ]
     },
     "execution_count": 10,
     "metadata": {},
     "output_type": "execute_result"
    },
    {
     "data": {
      "text/plain": [
       "<matplotlib.figure.Figure at 0x7f15ad157390>"
      ]
     },
     "metadata": {},
     "output_type": "display_data"
    },
    {
     "data": {
      "image/png": "[encoded data removed]",
      "text/plain": [
       "<matplotlib.figure.Figure at 0x7f15ad1573d0>"
      ]
     },
     "metadata": {},
     "output_type": "display_data"
    }
   ],
   "source": [
    "test_idx = random.randint(0, len(trainImages))\n",
    "plt.set_cmap('gray')\n",
    "plt.figure(dpi=100)\n",
    "plt.subplot(211)\n",
    "plt.imshow(trainImages[test_idx,:,:])\n",
    "\n",
    "plt.subplot(212)\n",
    "plt.imshow(trainMasks[test_idx,:,:])"
   ]
  },
  {
   "cell_type": "code",
   "execution_count": null,
   "metadata": {
    "collapsed": true,
    "deletable": true,
    "editable": true
   },
   "outputs": [],
   "source": []
  }
 ],
 "metadata": {
  "kernelspec": {
   "display_name": "Python 2",
   "language": "python",
   "name": "python2"
  },
  "language_info": {
   "codemirror_mode": {
    "name": "ipython",
    "version": 2
   },
   "file_extension": ".py",
   "mimetype": "text/x-python",
   "name": "python",
   "nbconvert_exporter": "python",
   "pygments_lexer": "ipython2",
   "version": "2.7.6"
  }
 },
 "nbformat": 4,
 "nbformat_minor": 2
}
